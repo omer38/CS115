{
 "cells": [
  {
   "cell_type": "markdown",
   "metadata": {},
   "source": [
    "# CS 115 - Introduction to Programming in Python\n",
    "## Lab 06 \n",
    "### Objectives: Two-dimensional lists.  Numpy arrays.\n",
    "\n",
    "**Instructions:**\n",
    "\n",
    "- In this lab, you will use Jupyter Notebook. \n",
    "- Complete the questions in the spaces provided and upload the solution to Moodle when finished."
   ]
  },
  {
   "cell_type": "markdown",
   "metadata": {},
   "source": [
    "## Question 1\n",
    "a) Write a function, find_max, that takes a 2 dimensional list of strings as a parameter.  For each column in the list, the function should replace the maximum string with an asterisk, and return a list containing the maximum string from each column.\n",
    "\n"
   ]
  },
  {
   "cell_type": "code",
   "execution_count": 96,
   "metadata": {},
   "outputs": [],
   "source": [
    "ol=[['star', 'tree', 'flower', 'apple'], ['popcorn', 'snow', 'banana', 'radio'], ['candle', 'water', 'zebra', 'animal']]\n",
    "def find_max(td):\n",
    "    max_values=[]\n",
    "    for c in range(len(td[0])):\n",
    "        max_str=''\n",
    "        max_row=0\n",
    "        max_col=0\n",
    "        for r in range(len(td)):\n",
    "            if td[r][c]>max_str:\n",
    "                max_row=r\n",
    "                max_col=c\n",
    "                max_str=td[r][c]\n",
    "        max_values.append(td[max_row][max_col])\n",
    "        td[max_row][max_col]='*'\n",
    "        \n",
    "    return max_values\n",
    "\n",
    "\n",
    "        \n",
    "            \n",
    "        "
   ]
  },
  {
   "cell_type": "raw",
   "metadata": {},
   "source": [
    "b)Write a program that creates a two-dimensional 3 x 4 list of strings, and using find max, updates the maximum element in each column with an asterisk, and displays the maximum value in each column.\n",
    "\n",
    "**Sample Run:**\n",
    "Original List: \n",
    "['star', 'tree', 'flower', 'apple'], ['popcorn', 'snow', 'banana', 'radio'], ['candle', 'water', 'zebra', 'animal']]\n",
    "\n",
    "Updated List:\n",
    "* tree flower apple \n",
    "popcorn snow banana * \n",
    "candle * * animal \n",
    "Maximum values:  ['star', 'water', 'zebra', 'radio']\n"
   ]
  },
  {
   "cell_type": "code",
   "execution_count": 97,
   "metadata": {},
   "outputs": [
    {
     "name": "stdout",
     "output_type": "stream",
     "text": [
      "Original List:\n",
      "[['star', 'tree', 'flower', 'apple'], ['popcorn', 'snow', 'banana', 'radio'], ['candle', 'water', 'zebra', 'animal']]\n",
      "Updated List:\n",
      "* tree flower apple \n",
      "popcorn snow banana * \n",
      "candle * * animal \n",
      "Maximum values: ['popcorn', 'tree', 'flower', 'apple']\n"
     ]
    }
   ],
   "source": [
    "\n",
    "print(\"Original List:\")\n",
    "print(ol)\n",
    "print(\"Updated List:\")\n",
    "find_max(ol)\n",
    "for l in ol:\n",
    "    for i in l:\n",
    "        print(i,end=' ')\n",
    "    print()\n",
    "print(\"Maximum values:\",find_max(ol))"
   ]
  },
  {
   "cell_type": "markdown",
   "metadata": {},
   "source": [
    "## Question 2:\n",
    "***Complete the following using numpy.  Do not use if statements or loops in your solution.***"
   ]
  },
  {
   "cell_type": "markdown",
   "metadata": {},
   "source": [
    "#### a) Create a numpy array containing the names of 5 cities: 'Ankara', 'Istanbul', 'Konya', 'Izmir','Kayseri'"
   ]
  },
  {
   "cell_type": "code",
   "execution_count": 98,
   "metadata": {},
   "outputs": [],
   "source": [
    "import numpy as np\n",
    "\n",
    "cities=np.array(['Ankara','Istanbul','Konya','Izmir','Kayseri'])\n"
   ]
  },
  {
   "cell_type": "markdown",
   "metadata": {},
   "source": [
    "#### b) Create a numpy array containing 5 random *float* values between 500 and 800 that represent the cost of heating in each of the cities above."
   ]
  },
  {
   "cell_type": "code",
   "execution_count": 99,
   "metadata": {},
   "outputs": [
    {
     "name": "stdout",
     "output_type": "stream",
     "text": [
      "[517.29749305 615.5422489  502.859141   587.23138703 740.62452237]\n"
     ]
    }
   ],
   "source": [
    "\n",
    "r_array20=np.random.randint(0,300,5)*np.random.rand(5)+500\n",
    "print(r_array20)\n"
   ]
  },
  {
   "cell_type": "markdown",
   "metadata": {},
   "source": [
    "#### c) Create a two-dimensional numpy array with 3 rows and 5 columns. The first row will contain the heating costs for each city for 2020, the second row will contain the heating costs for 2021 (heating costs from 2020 increased by 20%), and the third row contains the costs for 2022 (heating costs from 2021 increased by 15%)."
   ]
  },
  {
   "cell_type": "code",
   "execution_count": 100,
   "metadata": {},
   "outputs": [
    {
     "name": "stdout",
     "output_type": "stream",
     "text": [
      "[[ 517.29749305  615.5422489   502.859141    587.23138703  740.62452237]\n",
      " [ 620.75699166  738.65069868  603.4309692   704.67766443  888.74942684]\n",
      " [ 713.87054041  849.44830348  693.94561458  810.3793141  1022.06184087]]\n"
     ]
    }
   ],
   "source": [
    "\n",
    "r_array21=r_array20*1.2\n",
    "r_array22=r_array21*1.15\n",
    "new_array=np.array([r_array20,r_array21,r_array22])\n",
    "print(new_array)"
   ]
  },
  {
   "cell_type": "markdown",
   "metadata": {},
   "source": [
    "#### d) Display the maximum heating cost for each year for all cities, and the average heating cost for each city, for all years."
   ]
  },
  {
   "cell_type": "code",
   "execution_count": 101,
   "metadata": {
    "scrolled": true
   },
   "outputs": [
    {
     "name": "stdout",
     "output_type": "stream",
     "text": [
      "Max heating cost for each year: [ 740.62452237  888.74942684 1022.06184087]\n",
      "Average heating cost for each city: [617.30834171 734.54708368 600.07857493 700.76278852 883.81193003]\n"
     ]
    }
   ],
   "source": [
    "import numpy as np\n",
    "print(\"Max heating cost for each year:\",np.max(new_array,axis=1))\n",
    "print(\"Average heating cost for each city:\",np.mean(new_array,axis=0))\n"
   ]
  },
  {
   "cell_type": "markdown",
   "metadata": {},
   "source": [
    "#### e) Display the names of the cities with the 2022 heating costs over 900."
   ]
  },
  {
   "cell_type": "code",
   "execution_count": 102,
   "metadata": {},
   "outputs": [
    {
     "name": "stdout",
     "output_type": "stream",
     "text": [
      "Name of cities in 2022 over 900 ['Kayseri']\n"
     ]
    }
   ],
   "source": [
    "index=np.where(r_array22>900)\n",
    "print(\"Name of cities in 2022 over 900\",cities[index])"
   ]
  },
  {
   "cell_type": "code",
   "execution_count": null,
   "metadata": {},
   "outputs": [],
   "source": []
  }
 ],
 "metadata": {
  "kernelspec": {
   "display_name": "Python 3",
   "language": "python",
   "name": "python3"
  },
  "language_info": {
   "codemirror_mode": {
    "name": "ipython",
    "version": 3
   },
   "file_extension": ".py",
   "mimetype": "text/x-python",
   "name": "python",
   "nbconvert_exporter": "python",
   "pygments_lexer": "ipython3",
   "version": "3.8.3"
  }
 },
 "nbformat": 4,
 "nbformat_minor": 2
}
